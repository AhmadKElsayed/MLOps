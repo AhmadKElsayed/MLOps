{
 "cells": [
  {
   "cell_type": "code",
   "execution_count": null,
   "id": "c82f67c2",
   "metadata": {
    "vscode": {
     "languageId": "plaintext"
    }
   },
   "outputs": [],
   "source": [
    "import request\n",
    "url = \"https"
   ]
  }
 ],
 "metadata": {
  "language_info": {
   "name": "python"
  }
 },
 "nbformat": 4,
 "nbformat_minor": 5
}
